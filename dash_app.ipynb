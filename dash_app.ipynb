{
 "cells": [
  {
   "cell_type": "code",
   "execution_count": 3,
   "id": "7b7839f3-3200-4b5b-bb1e-92dcf6699b92",
   "metadata": {
    "execution": {
     "iopub.execute_input": "2025-02-13T07:56:48.984236Z",
     "iopub.status.busy": "2025-02-13T07:56:48.984236Z",
     "iopub.status.idle": "2025-02-13T07:56:52.575992Z",
     "shell.execute_reply": "2025-02-13T07:56:52.575083Z",
     "shell.execute_reply.started": "2025-02-13T07:56:48.984236Z"
    }
   },
   "outputs": [
    {
     "data": {
      "text/html": [
       "\n",
       "        <iframe\n",
       "            width=\"100%\"\n",
       "            height=\"650\"\n",
       "            src=\"http://127.0.0.1:8050/\"\n",
       "            frameborder=\"0\"\n",
       "            allowfullscreen\n",
       "            \n",
       "        ></iframe>\n",
       "        "
      ],
      "text/plain": [
       "<IPython.lib.display.IFrame at 0x241ffbbdf70>"
      ]
     },
     "metadata": {},
     "output_type": "display_data"
    }
   ],
   "source": [
    "# Import libraries\n",
    "import warnings\n",
    "warnings.filterwarnings(\"ignore\")\n",
    "import pandas as pd\n",
    "import dash\n",
    "from dash import html, dcc\n",
    "from dash.dependencies import Input, Output\n",
    "import plotly.express as px\n",
    "\n",
    "# Read the CSV file\n",
    "spacex_df = pd.read_csv(\"spacex_launch_dash.csv\")\n",
    "max_payload = spacex_df['Payload Mass (kg)'].max()\n",
    "min_payload = spacex_df['Payload Mass (kg)'].min()\n",
    "\n",
    "# Create a Dash application\n",
    "app = dash.Dash(__name__)\n",
    "\n",
    "# App layout\n",
    "app.layout = html.Div(children=[\n",
    "    html.H1('SpaceX Launch Records Dashboard',\n",
    "            style={'textAlign': 'center', 'color': '#503D36', 'font-size': 40}),\n",
    "    \n",
    "    # TASK 1: Add a dropdown list to enable Launch Site selection\n",
    "    dcc.Dropdown(\n",
    "        id='site-dropdown',\n",
    "        options=[{'label': i, 'value': i} for i in spacex_df['Launch Site'].unique()] +\n",
    "                [{'label': 'ALL', 'value': 'ALL'}],\n",
    "        value='ALL',\n",
    "        placeholder='Select a Launch Site here',\n",
    "        searchable=True\n",
    "    ),\n",
    "    html.Br(),\n",
    "\n",
    "    # TASK 2: Add a pie chart to show the total successful launches count for all sites\n",
    "    html.Div(dcc.Graph(id='success-pie-chart')),\n",
    "    html.Br(),\n",
    "\n",
    "    html.P(\"Payload range (Kg):\"),\n",
    "    \n",
    "    # TASK 3: Add a slider to select payload range\n",
    "    dcc.RangeSlider(\n",
    "        id='payload-slider',\n",
    "        min=0,\n",
    "        max=10000,\n",
    "        step=1000,\n",
    "        value=[min_payload, max_payload],\n",
    "        marks={0: '0', 2500: '2500', 5000: '5000', 7500: '7500', 10000: '10000'}\n",
    "    ),\n",
    "    html.Br(),\n",
    "\n",
    "    # TASK 4: Add a scatter chart to show the correlation between payload and launch success\n",
    "    html.Div(dcc.Graph(id='success-payload-scatter-chart')),\n",
    "])\n",
    "\n",
    "# TASK 2: Callback for pie chart\n",
    "@app.callback(\n",
    "    Output(component_id='success-pie-chart', component_property='figure'),\n",
    "    Input(component_id='site-dropdown', component_property='value')\n",
    ")\n",
    "def update_pie_chart(selected_site):\n",
    "    if selected_site == 'ALL':\n",
    "        # Total successes per site\n",
    "        filtered_df = spacex_df.groupby('Launch Site')['class'].sum().reset_index()\n",
    "        fig = px.pie(filtered_df, values='class', names='Launch Site', \n",
    "                     title='Total Success Launches by Site')\n",
    "    else:\n",
    "        # Success vs. Failure for selected site\n",
    "        filtered_df = spacex_df[spacex_df['Launch Site'] == selected_site]\n",
    "        success = filtered_df['class'].sum()\n",
    "        failure = len(filtered_df) - success\n",
    "        fig = px.pie(values=[success, failure], names=['Success', 'Failure'], \n",
    "                     title=f'Success vs. Failure for {selected_site}')\n",
    "    return fig\n",
    "\n",
    "# TASK 4: Callback for scatter plot\n",
    "@app.callback(\n",
    "    Output(component_id='success-payload-scatter-chart', component_property='figure'),\n",
    "    [Input(component_id='site-dropdown', component_property='value'),\n",
    "     Input(component_id='payload-slider', component_property='value')]\n",
    ")\n",
    "def update_scatter_plot(selected_site, payload_range):\n",
    "    low, high = payload_range\n",
    "    filtered_df = spacex_df[(spacex_df['Payload Mass (kg)'] >= low) & \n",
    "                            (spacex_df['Payload Mass (kg)'] <= high)]\n",
    "    if selected_site != 'ALL':\n",
    "        filtered_df = filtered_df[filtered_df['Launch Site'] == selected_site]\n",
    "    fig = px.scatter(filtered_df, x='Payload Mass (kg)', y='class', \n",
    "                     color='Booster Version Category',\n",
    "                     title='Payload vs. Mission Outcome')\n",
    "    return fig\n",
    "\n",
    "# Run the app\n",
    "if __name__ == '__main__':\n",
    "    app.run_server(debug=True)"
   ]
  },
  {
   "cell_type": "code",
   "execution_count": null,
   "id": "96a08e76-46ba-4060-ab45-b4841beb4898",
   "metadata": {},
   "outputs": [],
   "source": []
  }
 ],
 "metadata": {
  "kernelspec": {
   "display_name": "Python 3 (ipykernel)",
   "language": "python",
   "name": "python3"
  },
  "language_info": {
   "codemirror_mode": {
    "name": "ipython",
    "version": 3
   },
   "file_extension": ".py",
   "mimetype": "text/x-python",
   "name": "python",
   "nbconvert_exporter": "python",
   "pygments_lexer": "ipython3",
   "version": "3.12.4"
  },
  "widgets": {
   "application/vnd.jupyter.widget-state+json": {
    "state": {},
    "version_major": 2,
    "version_minor": 0
   }
  }
 },
 "nbformat": 4,
 "nbformat_minor": 5
}
